{
 "cells": [
  {
   "cell_type": "markdown",
   "metadata": {},
   "source": [
    "# Salary survey: Data analysis for salary among managers in the world. \n",
    "\n",
    "\n",
    "Data recovered from here: https://www.askamanager.org/2021/04/how-much-money-do-you-make-4.html"
   ]
  },
  {
   "cell_type": "markdown",
   "metadata": {},
   "source": [
    "This data is related with salary in many professional fields around the globe. Here are records from managers, systems engineers, librarians, and so on. The example of the questions is the next:\n",
    "\n",
    "- How old are you?\n",
    "- What industry do you work in?\n",
    "- Job title\n",
    "- If your job title needs additional context, please clarify here:\n",
    "- What is your annual salary? (You'll indicate the currency in a later question. If you are part-time or hourly, please enter an annualized equivalent -- what you would earn if you worked the job 40 hours a week, 52 weeks a year.)\n",
    "- How much additional monetary compensation do you get, if any (for example, bonuses or overtime in an average year)? Please only include monetary compensation here, not the value of benefits.\n",
    "- Please indicate the currency\n",
    "- If \"Other,\" please indicate the currency here:\n",
    "- If your income needs additional context, please provide it here:\n",
    "- What country do you work in?\n",
    "- If you're in the U.S., what state do you work in?\n",
    "- What city do you work in?\n",
    "- How many years of professional work experience do you have overall?\n",
    "- How many years of professional work experience do you have in your field?\n",
    "- What is your highest level of education completed?\n",
    "- What is your gender?\n",
    "- What is your race? (Choose all that apply.)\n",
    "\n",
    "\n",
    "with this can be started the search and Exploratory Data Analysis"
   ]
  },
  {
   "cell_type": "code",
   "execution_count": 1,
   "metadata": {},
   "outputs": [
    {
     "data": {
      "text/html": [
       "<div>\n",
       "<style scoped>\n",
       "    .dataframe tbody tr th:only-of-type {\n",
       "        vertical-align: middle;\n",
       "    }\n",
       "\n",
       "    .dataframe tbody tr th {\n",
       "        vertical-align: top;\n",
       "    }\n",
       "\n",
       "    .dataframe thead th {\n",
       "        text-align: right;\n",
       "    }\n",
       "</style>\n",
       "<table border=\"1\" class=\"dataframe\">\n",
       "  <thead>\n",
       "    <tr style=\"text-align: right;\">\n",
       "      <th></th>\n",
       "      <th>col_0</th>\n",
       "      <th>col_1</th>\n",
       "      <th>col_2</th>\n",
       "      <th>col_3</th>\n",
       "      <th>col_4</th>\n",
       "      <th>col_5</th>\n",
       "      <th>col_6</th>\n",
       "      <th>col_7</th>\n",
       "      <th>col_8</th>\n",
       "      <th>col_9</th>\n",
       "      <th>col_10</th>\n",
       "      <th>col_11</th>\n",
       "      <th>col_12</th>\n",
       "      <th>col_13</th>\n",
       "      <th>col_14</th>\n",
       "      <th>col_15</th>\n",
       "      <th>col_16</th>\n",
       "      <th>col_17</th>\n",
       "    </tr>\n",
       "  </thead>\n",
       "  <tbody>\n",
       "    <tr>\n",
       "      <th>0</th>\n",
       "      <td>2021-04-27 11:02:10</td>\n",
       "      <td>25-34</td>\n",
       "      <td>Education (Higher Education)</td>\n",
       "      <td>Research and Instruction Librarian</td>\n",
       "      <td>-99</td>\n",
       "      <td>55000</td>\n",
       "      <td>0</td>\n",
       "      <td>USD</td>\n",
       "      <td>-99</td>\n",
       "      <td>-99</td>\n",
       "      <td>United States</td>\n",
       "      <td>Massachusetts</td>\n",
       "      <td>Boston</td>\n",
       "      <td>5-7 years</td>\n",
       "      <td>5-7 years</td>\n",
       "      <td>Master's degree</td>\n",
       "      <td>Woman</td>\n",
       "      <td>White</td>\n",
       "    </tr>\n",
       "    <tr>\n",
       "      <th>1</th>\n",
       "      <td>2021-04-27 11:02:22</td>\n",
       "      <td>25-34</td>\n",
       "      <td>Computing or Tech</td>\n",
       "      <td>Change &amp; Internal Communications Manager</td>\n",
       "      <td>-99</td>\n",
       "      <td>54600</td>\n",
       "      <td>4000</td>\n",
       "      <td>GBP</td>\n",
       "      <td>-99</td>\n",
       "      <td>-99</td>\n",
       "      <td>United Kingdom</td>\n",
       "      <td>-99</td>\n",
       "      <td>Cambridge</td>\n",
       "      <td>8 - 10 years</td>\n",
       "      <td>5-7 years</td>\n",
       "      <td>College degree</td>\n",
       "      <td>Non-binary</td>\n",
       "      <td>White</td>\n",
       "    </tr>\n",
       "    <tr>\n",
       "      <th>2</th>\n",
       "      <td>2021-04-27 11:02:38</td>\n",
       "      <td>25-34</td>\n",
       "      <td>Accounting, Banking &amp; Finance</td>\n",
       "      <td>Marketing Specialist</td>\n",
       "      <td>-99</td>\n",
       "      <td>34000</td>\n",
       "      <td>0</td>\n",
       "      <td>USD</td>\n",
       "      <td>-99</td>\n",
       "      <td>-99</td>\n",
       "      <td>US</td>\n",
       "      <td>Tennessee</td>\n",
       "      <td>Chattanooga</td>\n",
       "      <td>2 - 4 years</td>\n",
       "      <td>2 - 4 years</td>\n",
       "      <td>College degree</td>\n",
       "      <td>Woman</td>\n",
       "      <td>White</td>\n",
       "    </tr>\n",
       "    <tr>\n",
       "      <th>3</th>\n",
       "      <td>2021-04-27 11:02:41</td>\n",
       "      <td>25-34</td>\n",
       "      <td>Nonprofits</td>\n",
       "      <td>Program Manager</td>\n",
       "      <td>-99</td>\n",
       "      <td>62000</td>\n",
       "      <td>3000</td>\n",
       "      <td>USD</td>\n",
       "      <td>-99</td>\n",
       "      <td>-99</td>\n",
       "      <td>USA</td>\n",
       "      <td>Wisconsin</td>\n",
       "      <td>Milwaukee</td>\n",
       "      <td>8 - 10 years</td>\n",
       "      <td>5-7 years</td>\n",
       "      <td>College degree</td>\n",
       "      <td>Woman</td>\n",
       "      <td>White</td>\n",
       "    </tr>\n",
       "    <tr>\n",
       "      <th>4</th>\n",
       "      <td>2021-04-27 11:02:42</td>\n",
       "      <td>25-34</td>\n",
       "      <td>Accounting, Banking &amp; Finance</td>\n",
       "      <td>Accounting Manager</td>\n",
       "      <td>-99</td>\n",
       "      <td>60000</td>\n",
       "      <td>7000</td>\n",
       "      <td>USD</td>\n",
       "      <td>-99</td>\n",
       "      <td>-99</td>\n",
       "      <td>US</td>\n",
       "      <td>South Carolina</td>\n",
       "      <td>Greenville</td>\n",
       "      <td>8 - 10 years</td>\n",
       "      <td>5-7 years</td>\n",
       "      <td>College degree</td>\n",
       "      <td>Woman</td>\n",
       "      <td>White</td>\n",
       "    </tr>\n",
       "  </tbody>\n",
       "</table>\n",
       "</div>"
      ],
      "text/plain": [
       "                col_0  col_1                          col_2  \\\n",
       "0 2021-04-27 11:02:10  25-34   Education (Higher Education)   \n",
       "1 2021-04-27 11:02:22  25-34              Computing or Tech   \n",
       "2 2021-04-27 11:02:38  25-34  Accounting, Banking & Finance   \n",
       "3 2021-04-27 11:02:41  25-34                     Nonprofits   \n",
       "4 2021-04-27 11:02:42  25-34  Accounting, Banking & Finance   \n",
       "\n",
       "                                      col_3 col_4  col_5  col_6 col_7 col_8  \\\n",
       "0        Research and Instruction Librarian   -99  55000      0   USD   -99   \n",
       "1  Change & Internal Communications Manager   -99  54600   4000   GBP   -99   \n",
       "2                      Marketing Specialist   -99  34000      0   USD   -99   \n",
       "3                           Program Manager   -99  62000   3000   USD   -99   \n",
       "4                        Accounting Manager   -99  60000   7000   USD   -99   \n",
       "\n",
       "  col_9          col_10          col_11       col_12        col_13  \\\n",
       "0   -99   United States   Massachusetts       Boston     5-7 years   \n",
       "1   -99  United Kingdom             -99    Cambridge  8 - 10 years   \n",
       "2   -99              US       Tennessee  Chattanooga   2 - 4 years   \n",
       "3   -99             USA       Wisconsin    Milwaukee  8 - 10 years   \n",
       "4   -99              US  South Carolina   Greenville  8 - 10 years   \n",
       "\n",
       "        col_14           col_15      col_16 col_17  \n",
       "0    5-7 years  Master's degree       Woman  White  \n",
       "1    5-7 years   College degree  Non-binary  White  \n",
       "2  2 - 4 years   College degree       Woman  White  \n",
       "3    5-7 years   College degree       Woman  White  \n",
       "4    5-7 years   College degree       Woman  White  "
      ]
     },
     "execution_count": 1,
     "metadata": {},
     "output_type": "execute_result"
    }
   ],
   "source": [
    "from Analysis_module.Analysis_module import Data_analyzer\n",
    "\n",
    "file_path = './data/Ask A Manager Salary Survey 2021 (Responses) - Form Responses 1 (1).csv'\n",
    "\n",
    "analyzer = Data_analyzer(data_path=file_path, is_config_required=True)\n",
    "\n",
    "analyzer.salary_survey_data.head()"
   ]
  },
  {
   "cell_type": "markdown",
   "metadata": {},
   "source": [
    "The analyzer module is in charge of quick cleanising, like replace of missing values with -99 strings and data type coertion. \n",
    "\n",
    "The colums are codificated, but each column corresponds with the questions previously setted. Anyway, there is a data dictionary to review each variable."
   ]
  },
  {
   "cell_type": "code",
   "execution_count": 2,
   "metadata": {},
   "outputs": [
    {
     "data": {
      "text/plain": [
       "{'original_name': 'How old are you?',\n",
       " 'values': array(['25-34', '45-54', '35-44', '18-24', '65 or over', '55-64',\n",
       "        'under 18'], dtype=object),\n",
       " 'frequencies': 25-34         12599\n",
       " 35-44          9869\n",
       " 45-54          3174\n",
       " 18-24          1186\n",
       " 55-64           991\n",
       " 65 or over       92\n",
       " under 18         11\n",
       " Name: How old are you?, dtype: int64,\n",
       " 'values_count': 7}"
      ]
     },
     "execution_count": 2,
     "metadata": {},
     "output_type": "execute_result"
    }
   ],
   "source": [
    "analyzer.data_dictionary['col_1']"
   ]
  },
  {
   "cell_type": "markdown",
   "metadata": {},
   "source": [
    "And a short version of the questions and answers to put data into plots."
   ]
  },
  {
   "cell_type": "code",
   "execution_count": 3,
   "metadata": {},
   "outputs": [
    {
     "data": {
      "text/plain": [
       "{'name': 'Age',\n",
       " 'answers': {'25-34': '25-34',\n",
       "  '45-54': '45-54',\n",
       "  '35-44': '35-44',\n",
       "  '18-24': '18-24',\n",
       "  '65 or over': '>=65',\n",
       "  '55-64': '55-64',\n",
       "  'under 18': '<=18'}}"
      ]
     },
     "execution_count": 3,
     "metadata": {},
     "output_type": "execute_result"
    }
   ],
   "source": [
    "analyzer.categorical_short_description['col_1']"
   ]
  },
  {
   "cell_type": "markdown",
   "metadata": {},
   "source": [
    "About the structure of the data the shape is the next:"
   ]
  },
  {
   "cell_type": "code",
   "execution_count": 4,
   "metadata": {},
   "outputs": [
    {
     "name": "stdout",
     "output_type": "stream",
     "text": [
      "<class 'pandas.core.frame.DataFrame'>\n",
      "RangeIndex: 27922 entries, 0 to 27921\n",
      "Data columns (total 18 columns):\n",
      " #   Column  Non-Null Count  Dtype         \n",
      "---  ------  --------------  -----         \n",
      " 0   col_0   27922 non-null  datetime64[ns]\n",
      " 1   col_1   27922 non-null  object        \n",
      " 2   col_2   27922 non-null  object        \n",
      " 3   col_3   27922 non-null  object        \n",
      " 4   col_4   27922 non-null  object        \n",
      " 5   col_5   27922 non-null  int64         \n",
      " 6   col_6   27922 non-null  int64         \n",
      " 7   col_7   27922 non-null  object        \n",
      " 8   col_8   27922 non-null  object        \n",
      " 9   col_9   27922 non-null  object        \n",
      " 10  col_10  27922 non-null  object        \n",
      " 11  col_11  27922 non-null  object        \n",
      " 12  col_12  27922 non-null  object        \n",
      " 13  col_13  27922 non-null  object        \n",
      " 14  col_14  27922 non-null  object        \n",
      " 15  col_15  27922 non-null  object        \n",
      " 16  col_16  27922 non-null  object        \n",
      " 17  col_17  27922 non-null  object        \n",
      "dtypes: datetime64[ns](1), int64(2), object(15)\n",
      "memory usage: 3.8+ MB\n"
     ]
    }
   ],
   "source": [
    "analyzer.salary_survey_data.info()"
   ]
  },
  {
   "cell_type": "code",
   "execution_count": 5,
   "metadata": {},
   "outputs": [
    {
     "data": {
      "text/plain": [
       "(27922, 18)"
      ]
     },
     "execution_count": 5,
     "metadata": {},
     "output_type": "execute_result"
    }
   ],
   "source": [
    "analyzer.salary_survey_data.shape"
   ]
  },
  {
   "cell_type": "markdown",
   "metadata": {},
   "source": [
    "This dataset have a shape of 27922 rows and 18 columns. \n",
    "\n",
    "Six categorical variables: \n",
    "- Industry, \n",
    "- US state, \n",
    "- Education level, \n",
    "- Gender\n",
    "- Currency  \n",
    "- Race\n",
    "\n",
    "Race is treated as string, with values separated by commas, because is a multiple choide question variable. Hence, this last variable requires special treatment, like dummy variables. \n",
    "\n",
    "Three rank variables:\n",
    "- Age\n",
    "- Total years of work\n",
    "- Field years of work\n",
    "\n",
    "Six character variables:\n",
    "- Job title\n",
    "- Job context\n",
    "- Other currency\n",
    "- Income context\n",
    "- Country\n",
    "- City\n",
    "\n",
    "Two numerical variables\n",
    "- Annual salary\n",
    "- Additional compensation\n",
    "\n",
    "\n",
    "We have one last variable: Timestamp. Date and moment when the observation was recorded."
   ]
  },
  {
   "cell_type": "markdown",
   "metadata": {},
   "source": [
    "The dependant variable is the salary, but isn't homogeneous because the numbers corresponds to distinct currencies. Let's see more about it:"
   ]
  },
  {
   "cell_type": "code",
   "execution_count": 6,
   "metadata": {},
   "outputs": [
    {
     "data": {
      "image/png": "[encoded data removed]",
      "text/plain": [
       "<Figure size 640x480 with 1 Axes>"
      ]
     },
     "metadata": {},
     "output_type": "display_data"
    }
   ],
   "source": [
    "analyzer.create_bar_plot(x_cat='col_7', use_full_data=True)\n"
   ]
  },
  {
   "cell_type": "markdown",
   "metadata": {},
   "source": [
    "It's notorious that the data group in dollars is the most representative, we are going to see more details of the data of other currencies to know if it's convenient to convert or eliminate them."
   ]
  },
  {
   "cell_type": "code",
   "execution_count": 7,
   "metadata": {},
   "outputs": [
    {
     "data": {
      "image/png": "[encoded data removed]",
      "text/plain": [
       "<Figure size 640x480 with 1 Axes>"
      ]
     },
     "metadata": {},
     "output_type": "display_data"
    }
   ],
   "source": [
    "analyzer.create_new_subset('no_usd_group', lambda data: data[data['col_7'] != 'USD'], use_full_set=True)\n",
    "analyzer.create_bar_plot(x_cat='col_7', data_subset='no_usd_group')"
   ]
  },
  {
   "cell_type": "code",
   "execution_count": 8,
   "metadata": {},
   "outputs": [
    {
     "name": "stdout",
     "output_type": "stream",
     "text": [
      "The percentaje of the no usd group is: 16.671441873791277%\n"
     ]
    }
   ],
   "source": [
    "no_usd_rows, no_usd_columns = analyzer.subset_data['no_usd_group'].shape\n",
    "full_data_rows, full_data_columns = analyzer.salary_survey_data.shape\n",
    "\n",
    "print(f'The percentaje of the no usd group is: {(no_usd_rows/full_data_rows)*100}%')"
   ]
  },
  {
   "cell_type": "code",
   "execution_count": 9,
   "metadata": {},
   "outputs": [
    {
     "data": {
      "text/plain": [
       "CAD        1663\n",
       "GBP        1585\n",
       "EUR         637\n",
       "AUD/NZD     500\n",
       "Other       155\n",
       "CHF          37\n",
       "SEK          37\n",
       "JPY          23\n",
       "ZAR          14\n",
       "HKD           4\n",
       "Name: col_7, dtype: int64"
      ]
     },
     "execution_count": 9,
     "metadata": {},
     "output_type": "execute_result"
    }
   ],
   "source": [
    "analyzer.subset_data['no_usd_group'].col_7.value_counts()"
   ]
  },
  {
   "cell_type": "markdown",
   "metadata": {},
   "source": [
    "There are 1663 observations with a salary in canadian dollars, and 1585 observations in pound sterling, 637 in euros and 500 in australian dollars. Every else currency is too small to be considered (270 observations). Let's check the dates of this subgroups."
   ]
  },
  {
   "cell_type": "code",
   "execution_count": 10,
   "metadata": {},
   "outputs": [],
   "source": [
    "analyzer.create_new_subset('usd_salary_group', lambda data: data[data['col_7'] == 'USD'] , use_full_set=True)\n",
    "analyzer.create_new_subset('cad_group', lambda data: data[data['col_7'] == 'CAD'], use_full_set=True)\n",
    "analyzer.create_new_subset('gbp_group', lambda data: data[data['col_7'] == 'GBP'], use_full_set=True)\n",
    "analyzer.create_new_subset('eur_group', lambda data: data[data['col_7'] == 'EUR'], use_full_set=True)\n",
    "analyzer.create_new_subset('aud_group', lambda data: data[data['col_7'] == 'AUD/NZD'], use_full_set=True)"
   ]
  },
  {
   "cell_type": "markdown",
   "metadata": {},
   "source": [
    "We got now subset for each currency. An API was used previously to get currency for each date, hence, we are available to convert the currencies to USD and add extra column to store the converted currency."
   ]
  },
  {
   "cell_type": "code",
   "execution_count": 11,
   "metadata": {},
   "outputs": [],
   "source": [
    "analyzer.create_and_set_transformed_salary(data_set='cad_group', currency_rate='cad_to_usd')\n",
    "analyzer.create_and_set_transformed_salary(data_set='gbp_group', currency_rate='gbp_to_usd')\n",
    "analyzer.create_and_set_transformed_salary(data_set='eur_group', currency_rate='eur_to_usd')\n",
    "analyzer.create_and_set_transformed_salary(data_set='aud_group', currency_rate='aud_to_usd')\n",
    "\n",
    "#This col adding is to keep the column shape of the data sets, in such a way could be merged\n",
    "analyzer.subset_data['usd_salary_group']['col_18'] = analyzer.subset_data['usd_salary_group']['col_5']"
   ]
  },
  {
   "cell_type": "markdown",
   "metadata": {},
   "source": [
    "Now we have four data sets, for each currency recovered previously from api. And this data sets have an extra column. We will merge them with USD group to apply analysis to only one global data set."
   ]
  },
  {
   "cell_type": "code",
   "execution_count": 12,
   "metadata": {},
   "outputs": [
    {
     "data": {
      "text/html": [
       "<div>\n",
       "<style scoped>\n",
       "    .dataframe tbody tr th:only-of-type {\n",
       "        vertical-align: middle;\n",
       "    }\n",
       "\n",
       "    .dataframe tbody tr th {\n",
       "        vertical-align: top;\n",
       "    }\n",
       "\n",
       "    .dataframe thead th {\n",
       "        text-align: right;\n",
       "    }\n",
       "</style>\n",
       "<table border=\"1\" class=\"dataframe\">\n",
       "  <thead>\n",
       "    <tr style=\"text-align: right;\">\n",
       "      <th></th>\n",
       "      <th>col_0</th>\n",
       "      <th>col_1</th>\n",
       "      <th>col_2</th>\n",
       "      <th>col_3</th>\n",
       "      <th>col_4</th>\n",
       "      <th>col_5</th>\n",
       "      <th>col_6</th>\n",
       "      <th>col_7</th>\n",
       "      <th>col_8</th>\n",
       "      <th>col_9</th>\n",
       "      <th>col_10</th>\n",
       "      <th>col_11</th>\n",
       "      <th>col_12</th>\n",
       "      <th>col_13</th>\n",
       "      <th>col_14</th>\n",
       "      <th>col_15</th>\n",
       "      <th>col_16</th>\n",
       "      <th>col_17</th>\n",
       "      <th>col_18</th>\n",
       "    </tr>\n",
       "  </thead>\n",
       "  <tbody>\n",
       "    <tr>\n",
       "      <th>0</th>\n",
       "      <td>2021-04-27 11:02:10</td>\n",
       "      <td>25-34</td>\n",
       "      <td>Education (Higher Education)</td>\n",
       "      <td>Research and Instruction Librarian</td>\n",
       "      <td>-99</td>\n",
       "      <td>55000</td>\n",
       "      <td>0</td>\n",
       "      <td>USD</td>\n",
       "      <td>-99</td>\n",
       "      <td>-99</td>\n",
       "      <td>United States</td>\n",
       "      <td>Massachusetts</td>\n",
       "      <td>Boston</td>\n",
       "      <td>5-7 years</td>\n",
       "      <td>5-7 years</td>\n",
       "      <td>Master's degree</td>\n",
       "      <td>Woman</td>\n",
       "      <td>White</td>\n",
       "      <td>55000.0</td>\n",
       "    </tr>\n",
       "    <tr>\n",
       "      <th>2</th>\n",
       "      <td>2021-04-27 11:02:38</td>\n",
       "      <td>25-34</td>\n",
       "      <td>Accounting, Banking &amp; Finance</td>\n",
       "      <td>Marketing Specialist</td>\n",
       "      <td>-99</td>\n",
       "      <td>34000</td>\n",
       "      <td>0</td>\n",
       "      <td>USD</td>\n",
       "      <td>-99</td>\n",
       "      <td>-99</td>\n",
       "      <td>US</td>\n",
       "      <td>Tennessee</td>\n",
       "      <td>Chattanooga</td>\n",
       "      <td>2 - 4 years</td>\n",
       "      <td>2 - 4 years</td>\n",
       "      <td>College degree</td>\n",
       "      <td>Woman</td>\n",
       "      <td>White</td>\n",
       "      <td>34000.0</td>\n",
       "    </tr>\n",
       "    <tr>\n",
       "      <th>3</th>\n",
       "      <td>2021-04-27 11:02:41</td>\n",
       "      <td>25-34</td>\n",
       "      <td>Nonprofits</td>\n",
       "      <td>Program Manager</td>\n",
       "      <td>-99</td>\n",
       "      <td>62000</td>\n",
       "      <td>3000</td>\n",
       "      <td>USD</td>\n",
       "      <td>-99</td>\n",
       "      <td>-99</td>\n",
       "      <td>USA</td>\n",
       "      <td>Wisconsin</td>\n",
       "      <td>Milwaukee</td>\n",
       "      <td>8 - 10 years</td>\n",
       "      <td>5-7 years</td>\n",
       "      <td>College degree</td>\n",
       "      <td>Woman</td>\n",
       "      <td>White</td>\n",
       "      <td>62000.0</td>\n",
       "    </tr>\n",
       "    <tr>\n",
       "      <th>4</th>\n",
       "      <td>2021-04-27 11:02:42</td>\n",
       "      <td>25-34</td>\n",
       "      <td>Accounting, Banking &amp; Finance</td>\n",
       "      <td>Accounting Manager</td>\n",
       "      <td>-99</td>\n",
       "      <td>60000</td>\n",
       "      <td>7000</td>\n",
       "      <td>USD</td>\n",
       "      <td>-99</td>\n",
       "      <td>-99</td>\n",
       "      <td>US</td>\n",
       "      <td>South Carolina</td>\n",
       "      <td>Greenville</td>\n",
       "      <td>8 - 10 years</td>\n",
       "      <td>5-7 years</td>\n",
       "      <td>College degree</td>\n",
       "      <td>Woman</td>\n",
       "      <td>White</td>\n",
       "      <td>60000.0</td>\n",
       "    </tr>\n",
       "    <tr>\n",
       "      <th>5</th>\n",
       "      <td>2021-04-27 11:02:46</td>\n",
       "      <td>25-34</td>\n",
       "      <td>Education (Higher Education)</td>\n",
       "      <td>Scholarly Publishing Librarian</td>\n",
       "      <td>-99</td>\n",
       "      <td>62000</td>\n",
       "      <td>0</td>\n",
       "      <td>USD</td>\n",
       "      <td>-99</td>\n",
       "      <td>-99</td>\n",
       "      <td>USA</td>\n",
       "      <td>New Hampshire</td>\n",
       "      <td>Hanover</td>\n",
       "      <td>8 - 10 years</td>\n",
       "      <td>2 - 4 years</td>\n",
       "      <td>Master's degree</td>\n",
       "      <td>Man</td>\n",
       "      <td>White</td>\n",
       "      <td>62000.0</td>\n",
       "    </tr>\n",
       "  </tbody>\n",
       "</table>\n",
       "</div>"
      ],
      "text/plain": [
       "                col_0  col_1                          col_2  \\\n",
       "0 2021-04-27 11:02:10  25-34   Education (Higher Education)   \n",
       "2 2021-04-27 11:02:38  25-34  Accounting, Banking & Finance   \n",
       "3 2021-04-27 11:02:41  25-34                     Nonprofits   \n",
       "4 2021-04-27 11:02:42  25-34  Accounting, Banking & Finance   \n",
       "5 2021-04-27 11:02:46  25-34   Education (Higher Education)   \n",
       "\n",
       "                                col_3 col_4  col_5  col_6 col_7 col_8 col_9  \\\n",
       "0  Research and Instruction Librarian   -99  55000      0   USD   -99   -99   \n",
       "2                Marketing Specialist   -99  34000      0   USD   -99   -99   \n",
       "3                     Program Manager   -99  62000   3000   USD   -99   -99   \n",
       "4                  Accounting Manager   -99  60000   7000   USD   -99   -99   \n",
       "5      Scholarly Publishing Librarian   -99  62000      0   USD   -99   -99   \n",
       "\n",
       "          col_10          col_11       col_12        col_13       col_14  \\\n",
       "0  United States   Massachusetts       Boston     5-7 years    5-7 years   \n",
       "2             US       Tennessee  Chattanooga   2 - 4 years  2 - 4 years   \n",
       "3            USA       Wisconsin    Milwaukee  8 - 10 years    5-7 years   \n",
       "4             US  South Carolina   Greenville  8 - 10 years    5-7 years   \n",
       "5            USA   New Hampshire      Hanover  8 - 10 years  2 - 4 years   \n",
       "\n",
       "            col_15 col_16 col_17   col_18  \n",
       "0  Master's degree  Woman  White  55000.0  \n",
       "2   College degree  Woman  White  34000.0  \n",
       "3   College degree  Woman  White  62000.0  \n",
       "4   College degree  Woman  White  60000.0  \n",
       "5  Master's degree    Man  White  62000.0  "
      ]
     },
     "execution_count": 12,
     "metadata": {},
     "output_type": "execute_result"
    }
   ],
   "source": [
    "analyzer.merge_subsets('fixed_usd_group', [\n",
    "    'usd_salary_group', \n",
    "    'cad_group',\n",
    "    'gbp_group',\n",
    "    'eur_group',\n",
    "    'aud_group',\n",
    "    ])\n",
    "\n",
    "analyzer.subset_data['fixed_usd_group'].head()"
   ]
  },
  {
   "cell_type": "code",
   "execution_count": 13,
   "metadata": {},
   "outputs": [
    {
     "data": {
      "text/plain": [
       "(27652, 19)"
      ]
     },
     "execution_count": 13,
     "metadata": {},
     "output_type": "execute_result"
    }
   ],
   "source": [
    "analyzer.subset_data['fixed_usd_group'].shape"
   ]
  },
  {
   "cell_type": "markdown",
   "metadata": {},
   "source": [
    "The data was merged successfully and now there is a col_18 feature with the usd value corresponding to the currecies. Let's explore this column with a box plot."
   ]
  },
  {
   "cell_type": "code",
   "execution_count": 14,
   "metadata": {},
   "outputs": [
    {
     "data": {
      "image/png": "[encoded data removed]",
      "text/plain": [
       "<Figure size 640x480 with 1 Axes>"
      ]
     },
     "metadata": {},
     "output_type": "display_data"
    }
   ],
   "source": [
    "analyzer.create_box_plot(y_cont='col_18', data_subset='fixed_usd_group', x_label='Salary (usd)')"
   ]
  },
  {
   "cell_type": "code",
   "execution_count": 15,
   "metadata": {},
   "outputs": [
    {
     "data": {
      "text/plain": [
       "(1676, 19)"
      ]
     },
     "execution_count": 15,
     "metadata": {},
     "output_type": "execute_result"
    }
   ],
   "source": [
    "analyzer.subset_data['fixed_usd_group'][(analyzer.subset_data['fixed_usd_group'].col_18 > 170000)].shape"
   ]
  },
  {
   "cell_type": "markdown",
   "metadata": {},
   "source": [
    "That's just a preview, but there are a lot of outlier values. Cutting them let a dataset with more analizable data. The missing data by this proccess increases by 1676, all with salaries bigger than 170,000 USD. the total percentaje of the missin data is given by the next code line."
   ]
  },
  {
   "cell_type": "code",
   "execution_count": 16,
   "metadata": {},
   "outputs": [
    {
     "data": {
      "text/plain": [
       "6.96941479836688"
      ]
     },
     "execution_count": 16,
     "metadata": {},
     "output_type": "execute_result"
    }
   ],
   "source": [
    "#this is the total percentaje of missing data\n",
    "((1676 + 270)/27922)*100"
   ]
  },
  {
   "cell_type": "code",
   "execution_count": 17,
   "metadata": {},
   "outputs": [
    {
     "data": {
      "image/png": "[encoded data removed]",
      "text/plain": [
       "<Figure size 640x480 with 1 Axes>"
      ]
     },
     "metadata": {},
     "output_type": "display_data"
    }
   ],
   "source": [
    "analyzer.subset_data['fixed_usd_group'].loc[3605, 'col_18'] = 102000000 * (1/3659.62)\n",
    "\n",
    "analyzer.subset_data['fixed_usd_group'] = analyzer.subset_data['fixed_usd_group'][(analyzer.subset_data['fixed_usd_group'].col_18 <= 170000)]\n",
    "\n",
    "analyzer.create_box_plot(y_cont='col_18', data_subset='fixed_usd_group', x_label='Salary (usd)')"
   ]
  },
  {
   "cell_type": "code",
   "execution_count": 18,
   "metadata": {},
   "outputs": [
    {
     "data": {
      "image/png": "[encoded data removed]",
      "text/plain": [
       "<Figure size 640x480 with 1 Axes>"
      ]
     },
     "metadata": {},
     "output_type": "display_data"
    },
    {
     "name": "stdout",
     "output_type": "stream",
     "text": [
      "{'intervals': array([     0.,   1700.,   3400.,   5100.,   6800.,   8500.,  10200.,\n",
      "        11900.,  13600.,  15300.,  17000.,  18700.,  20400.,  22100.,\n",
      "        23800.,  25500.,  27200.,  28900.,  30600.,  32300.,  34000.,\n",
      "        35700.,  37400.,  39100.,  40800.,  42500.,  44200.,  45900.,\n",
      "        47600.,  49300.,  51000.,  52700.,  54400.,  56100.,  57800.,\n",
      "        59500.,  61200.,  62900.,  64600.,  66300.,  68000.,  69700.,\n",
      "        71400.,  73100.,  74800.,  76500.,  78200.,  79900.,  81600.,\n",
      "        83300.,  85000.,  86700.,  88400.,  90100.,  91800.,  93500.,\n",
      "        95200.,  96900.,  98600., 100300., 102000., 103700., 105400.,\n",
      "       107100., 108800., 110500., 112200., 113900., 115600., 117300.,\n",
      "       119000., 120700., 122400., 124100., 125800., 127500., 129200.,\n",
      "       130900., 132600., 134300., 136000., 137700., 139400., 141100.,\n",
      "       142800., 144500., 146200., 147900., 149600., 151300., 153000.,\n",
      "       154700., 156400., 158100., 159800., 161500., 163200., 164900.,\n",
      "       166600., 168300., 170000.]), 'frequencies': array([ 97.,   7.,   4.,  10.,   4.,   6.,   7.,  28.,  26.,  18.,  32.,\n",
      "        32.,  42.,  33.,  97., 106.,  99., 217., 262., 177., 359., 325.,\n",
      "       402., 416., 523., 417., 508., 395., 493., 606., 636., 531., 754.,\n",
      "       369., 503., 790., 518., 514., 730., 347., 462., 745., 635., 269.,\n",
      "       716., 462., 205., 669., 433., 224., 605., 353., 614., 186., 358.,\n",
      "       435., 203., 290., 478., 157., 253., 375., 181., 129., 405., 159.,\n",
      "       102., 327., 137., 124., 398., 118., 117., 311.,  95., 101., 323.,\n",
      "       110., 102., 229.,  86.,  72., 249.,  53.,  63., 154.,  53.,  64.,\n",
      "       261.,  47.,  55., 129.,  55.,  21., 191.,  48.,  17., 146.,  56.,\n",
      "       122.]), 'mean': 78607.3553869874, 'median': 72100.0, 'std': 33998.827174708524}\n"
     ]
    }
   ],
   "source": [
    "histogram_data = analyzer.create_histogram(y_cont='col_18', data_subset='fixed_usd_group')\n",
    "print(histogram_data)"
   ]
  },
  {
   "cell_type": "markdown",
   "metadata": {},
   "source": [
    "After the fixing of the group, there are still data that is an outlier following the boxplot ilustration. After outlier deletion the missing data percentaje is **6.96%**. This analysis can go further."
   ]
  },
  {
   "cell_type": "markdown",
   "metadata": {},
   "source": [
    "From here we can export our clean data"
   ]
  },
  {
   "cell_type": "code",
   "execution_count": 19,
   "metadata": {},
   "outputs": [],
   "source": [
    "analyzer.subset_data['fixed_usd_group'].to_csv('./data/cleaned_salary_survey_data.csv', index=False)"
   ]
  }
 ],
 "metadata": {
  "kernelspec": {
   "display_name": "DataSciencePortfolio",
   "language": "python",
   "name": "python3"
  },
  "language_info": {
   "codemirror_mode": {
    "name": "ipython",
    "version": 3
   },
   "file_extension": ".py",
   "mimetype": "text/x-python",
   "name": "python",
   "nbconvert_exporter": "python",
   "pygments_lexer": "ipython3",
   "version": "3.9.13"
  }
 },
 "nbformat": 4,
 "nbformat_minor": 2
}
